{
  "cells": [
    {
      "cell_type": "markdown",
      "metadata": {},
      "source": [
        "# 📸 Image to PDF Converter\n",
        "\n",
        "Convert images to PDF files easily! Supports:\n",
        "- Single images\n",
        "- Multiple images (creates ZIP file)\n",
        "- ZIP files containing images\n",
        "- Folders with images\n",
        "\n",
        "**Supported formats:** PNG, JPG, JPEG, WEBP\n"
      ]
    },
    {
      "cell_type": "markdown",
      "metadata": {},
      "source": [
        "## 🚀 How to Use\n",
        "\n",
        "**Option 1:** Set `path_arg` to your file/folder path\n",
        "**Option 2:** Upload files directly (in Colab)\n",
        "\n",
        "### Examples:\n",
        "```python\n",
        "# Single image\n",
        "path_arg = \"photo.jpg\"\n",
        "\n",
        "# Folder with images  \n",
        "path_arg = \"/path/to/images/\"\n",
        "\n",
        "# ZIP file\n",
        "path_arg = \"images.zip\"\n",
        "```\n"
      ]
    },
    {
      "cell_type": "code",
      "execution_count": null,
      "metadata": {},
      "outputs": [],
      "source": [
        "import os, zipfile, shutil, uuid\n",
        "from PIL import Image\n",
        "\n",
        "try:\n",
        "    from google.colab import files\n",
        "    IS_COLAB = True\n",
        "    print(\"🔧 Running in Google Colab\")\n",
        "except ImportError:\n",
        "    IS_COLAB = False\n",
        "    print(\"🔧 Running locally\")"
      ]
    },
    {
      "cell_type": "code",
      "execution_count": null,
      "metadata": {},
      "outputs": [],
      "source": [
        "def get_images(path):\n",
        "    if not os.path.exists(path):\n",
        "        raise FileNotFoundError(f\"❌ Path not found: {path}\")\n",
        "    \n",
        "    if zipfile.is_zipfile(path):\n",
        "        print(f\"📦 Extracting ZIP: {os.path.basename(path)}\")\n",
        "        base = os.path.splitext(os.path.basename(path))[0]\n",
        "        tmp_dir = f\"ext_{uuid.uuid4().hex[:6]}\"\n",
        "        os.makedirs(tmp_dir, exist_ok=True)\n",
        "        zipfile.ZipFile(path).extractall(tmp_dir)\n",
        "        imgs = [os.path.join(r, f) for r, _, fs in os.walk(tmp_dir) \n",
        "                for f in fs if f.lower().endswith(('png','jpg','jpeg','webp'))]\n",
        "        return imgs, base, tmp_dir\n",
        "    elif os.path.isdir(path):\n",
        "        print(f\"📁 Scanning folder: {os.path.basename(path)}\")\n",
        "        base = os.path.basename(os.path.normpath(path))\n",
        "        imgs = [os.path.join(r, f) for r, _, fs in os.walk(path) \n",
        "                for f in fs if f.lower().endswith(('png','jpg','jpeg','webp'))]\n",
        "        return imgs, base, None\n",
        "    else:\n",
        "        print(f\"🖼️ Processing single image: {os.path.basename(path)}\")\n",
        "        return [path], os.path.splitext(os.path.basename(path))[0], None\n"
      ]
    },
    {
      "cell_type": "code",
      "execution_count": null,
      "metadata": {},
      "outputs": [],
      "source": [
        "def process(path):\n",
        "    try:\n",
        "        imgs, base, tmp = get_images(path)\n",
        "        if not imgs:\n",
        "            print(\"❌ No valid images found.\")\n",
        "            return\n",
        "\n",
        "        print(f\"📊 Found {len(imgs)} image(s)\")\n",
        "        \n",
        "        out_dir = f\"pdfs_{uuid.uuid4().hex[:6]}\"\n",
        "        os.makedirs(out_dir, exist_ok=True)\n",
        "        \n",
        "        pdf_paths = []\n",
        "        for i, img in enumerate(imgs, 1):\n",
        "            print(f\"🔄 Converting {i}/{len(imgs)}: {os.path.basename(img)}\")\n",
        "            pdf_path = os.path.join(out_dir, os.path.splitext(os.path.basename(img))[0] + \".pdf\")\n",
        "            Image.open(img).convert(\"RGB\").save(pdf_path)\n",
        "            pdf_paths.append(pdf_path)\n",
        "\n",
        "        if len(pdf_paths) == 1:\n",
        "            final_file = f\"{base}.pdf\"\n",
        "            shutil.move(pdf_paths[0], final_file)\n",
        "            print(f\"✅ Created: {final_file}\")\n",
        "        else:\n",
        "            final_file = f\"{base}_pdfs.zip\"\n",
        "            with zipfile.ZipFile(final_file, 'w', zipfile.ZIP_DEFLATED) as z:\n",
        "                [z.write(p, os.path.basename(p)) for p in pdf_paths]\n",
        "            print(f\"✅ Created ZIP: {final_file} ({len(pdf_paths)} PDFs)\")\n",
        "\n",
        "        if IS_COLAB:\n",
        "            files.download(final_file)\n",
        "            print(\"📥 Download started!\")\n",
        "        else:\n",
        "            print(f\"📁 Output: {os.path.abspath(final_file)}\")\n",
        "\n",
        "    except Exception as e:\n",
        "        print(f\"❌ Error: {e}\")\n",
        "    finally:\n",
        "        shutil.rmtree(out_dir, ignore_errors=True)\n",
        "        if tmp: shutil.rmtree(tmp, ignore_errors=True)\n"
      ]
    },
    {
      "cell_type": "markdown",
      "metadata": {},
      "source": [
        "## ⚙️ Configuration\n",
        "\n",
        "Set your file path here:\n"
      ]
    },
    {
      "cell_type": "code",
      "execution_count": null,
      "metadata": {},
      "outputs": [],
      "source": [
        "path_arg = None  # Set your file/folder path here\n"
      ]
    },
    {
      "cell_type": "markdown",
      "metadata": {},
      "source": [
        "## 🎯 Run Conversion\n",
        "\n",
        "Execute the conversion process:\n"
      ]
    },
    {
      "cell_type": "code",
      "execution_count": null,
      "metadata": {},
      "outputs": [],
      "source": [
        "if path_arg:\n",
        "    print(f\"🚀 Processing: {path_arg}\")\n",
        "    process(path_arg)\n",
        "elif IS_COLAB:\n",
        "    print(\"📤 Upload your files...\")\n",
        "    uploaded = files.upload()\n",
        "    for fname in uploaded.keys():\n",
        "        print(f\"🚀 Processing: {fname}\")\n",
        "        process(fname)\n",
        "else:\n",
        "    print(\"❗ Please set path_arg or upload in Colab.\")\n"
      ]
    }
  ],
  "metadata": {
    "colab": {
      "provenance": []
    },
    "kernelspec": {
      "display_name": "Python 3",
      "name": "python3"
    },
    "language_info": {
      "name": "python"
    }
  },
  "nbformat": 4,
  "nbformat_minor": 0
}
